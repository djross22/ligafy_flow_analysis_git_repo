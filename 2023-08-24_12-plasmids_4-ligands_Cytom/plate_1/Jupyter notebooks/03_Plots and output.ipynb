{
 "cells": [
  {
   "cell_type": "code",
   "execution_count": null,
   "metadata": {},
   "outputs": [],
   "source": [
    "import glob #filenames and pathnames utility\n",
    "import os   #operating sytem utility\n",
    "\n",
    "import flowgatenist as flow\n",
    "#from flowgatenist import gaussian_mixture as nist_gmm\n",
    "import flowgatenist.batch_process as batch_p\n",
    "\n",
    "import matplotlib.pyplot as plt\n",
    "from matplotlib import colors\n",
    "#from matplotlib.backends.backend_pdf import PdfPages\n",
    "\n",
    "import numpy as np\n",
    "import pandas as pd\n",
    "#from scipy import special\n",
    "#from scipy import misc\n",
    "from scipy import stats\n",
    "\n",
    "#import pystan\n",
    "import pickle\n",
    "\n",
    "import seaborn as sns\n",
    "sns.set()\n",
    "\n",
    "%load_ext autoreload\n",
    "%autoreload 2\n",
    "\n",
    "%matplotlib inline"
   ]
  },
  {
   "cell_type": "markdown",
   "metadata": {},
   "source": [
    "Indicate the directory where the data is stored:"
   ]
  },
  {
   "cell_type": "code",
   "execution_count": null,
   "metadata": {},
   "outputs": [],
   "source": [
    "notebook_dir = os.getcwd()\n",
    "notebook_dir"
   ]
  },
  {
   "cell_type": "code",
   "execution_count": null,
   "metadata": {},
   "outputs": [],
   "source": [
    "cytometry_directory = notebook_dir[:notebook_dir.rfind(\"\\\\\")]\n",
    "cytometry_directory"
   ]
  },
  {
   "cell_type": "code",
   "execution_count": null,
   "metadata": {},
   "outputs": [],
   "source": [
    "main_directory = cytometry_directory[:cytometry_directory.rfind(\"\\\\\")]\n",
    "os.chdir(main_directory)\n",
    "main_directory"
   ]
  },
  {
   "cell_type": "code",
   "execution_count": null,
   "metadata": {},
   "outputs": [],
   "source": [
    "plate_str = cytometry_directory[cytometry_directory.find(\"plate_\"):]\n",
    "plate_str"
   ]
  },
  {
   "cell_type": "code",
   "execution_count": null,
   "metadata": {},
   "outputs": [],
   "source": [
    "layout_file = glob.glob('*cytom-' + plate_str + '*.csv')[0]\n",
    "layout_file"
   ]
  },
  {
   "cell_type": "code",
   "execution_count": null,
   "metadata": {},
   "outputs": [],
   "source": [
    "plate_layout_0 = pd.read_csv(layout_file)"
   ]
  },
  {
   "cell_type": "code",
   "execution_count": null,
   "metadata": {},
   "outputs": [],
   "source": [
    "#plate_layout_0.dropna(inplace=True)"
   ]
  },
  {
   "cell_type": "code",
   "execution_count": null,
   "metadata": {
    "scrolled": true
   },
   "outputs": [],
   "source": []
  },
  {
   "cell_type": "code",
   "execution_count": null,
   "metadata": {},
   "outputs": [],
   "source": [
    "inducerId = plate_layout_0['inducerId'].tolist()\n",
    "for i in range(len(inducerId)):\n",
    "    if inducerId[i] == \"none\":\n",
    "        continue\n",
    "    elif inducerId[i] != \"none\":\n",
    "        inducer = inducerId[i] \n",
    "        break\n",
    "    else:\n",
    "        print(\"No Inducer Identified\")\n",
    "inducer\n",
    "\n",
    "inducerUnits = plate_layout_0['inducerUnits'].tolist()\n",
    "for i in range(len(inducerUnits)):\n",
    "    if inducerUnits[i] == \"none\":\n",
    "        continue\n",
    "    elif inducerUnits[i] != \"none\":\n",
    "        inducerU = inducerUnits[i] \n",
    "        break\n",
    "    else:\n",
    "        print(\"No Inducer Units Identified\")\n",
    "\n",
    "l_strain = plate_layout_0['strain'].tolist()\n",
    "exStrain = l_strain[0]"
   ]
  },
  {
   "cell_type": "code",
   "execution_count": null,
   "metadata": {},
   "outputs": [],
   "source": [
    "inducerU"
   ]
  },
  {
   "cell_type": "code",
   "execution_count": null,
   "metadata": {},
   "outputs": [],
   "source": []
  },
  {
   "cell_type": "code",
   "execution_count": null,
   "metadata": {},
   "outputs": [],
   "source": [
    "plate_layout = plate_layout_0[plate_layout_0['strain']!=\"none\"].copy()"
   ]
  },
  {
   "cell_type": "code",
   "execution_count": null,
   "metadata": {},
   "outputs": [],
   "source": [
    "plate_layout"
   ]
  },
  {
   "cell_type": "markdown",
   "metadata": {},
   "source": [
    "Read in cytometry data:"
   ]
  },
  {
   "cell_type": "code",
   "execution_count": null,
   "metadata": {},
   "outputs": [],
   "source": [
    "plate_1_dir = cytometry_directory.replace('plate_2', 'plate_1')\n",
    "plate_1_dir"
   ]
  },
  {
   "cell_type": "code",
   "execution_count": null,
   "metadata": {},
   "outputs": [],
   "source": [
    "os.chdir(plate_1_dir)\n",
    "back_fit_file = glob.glob('*BL1-A-MEF*.stan_samp_pkl')[0]\n",
    "sm_back, stan_back_fit = batch_p.unpickle_stan_sampling(file=back_fit_file)"
   ]
  },
  {
   "cell_type": "code",
   "execution_count": null,
   "metadata": {},
   "outputs": [],
   "source": [
    "stan_back_fit_samples = stan_back_fit.stan_variable('mu')\n",
    "back_mu = np.mean(stan_back_fit_samples)\n",
    "back_mu"
   ]
  },
  {
   "cell_type": "code",
   "execution_count": null,
   "metadata": {},
   "outputs": [],
   "source": [
    "os.chdir(cytometry_directory)\n",
    "cytometry_directory"
   ]
  },
  {
   "cell_type": "code",
   "execution_count": null,
   "metadata": {},
   "outputs": [],
   "source": [
    "coli_file = []\n",
    "for w in plate_layout['well']:\n",
    "    x = glob.glob('*' + w + '.fcs_pkl')\n",
    "    if len(x)>0:\n",
    "        x = x[0]\n",
    "    else:\n",
    "        x = ''\n",
    "    coli_file.append(x)\n",
    "plate_layout['coli_file'] = coli_file"
   ]
  },
  {
   "cell_type": "code",
   "execution_count": null,
   "metadata": {},
   "outputs": [],
   "source": []
  },
  {
   "cell_type": "code",
   "execution_count": null,
   "metadata": {
    "scrolled": true
   },
   "outputs": [],
   "source": [
    "plate_layout"
   ]
  },
  {
   "cell_type": "code",
   "execution_count": null,
   "metadata": {},
   "outputs": [],
   "source": [
    "plate_layout['sample'] = [ p for p in plate_layout['plasmid'] ]\n",
    "plate_layout['sample'] += [ '-' + str(i) + '_' for i in plate_layout['inducerConcentration']]\n",
    "plate_layout['sample'] += [ w for w in plate_layout['well']]\n",
    "\n",
    "plate_layout['variant'] = plate_layout['plasmid']"
   ]
  },
  {
   "cell_type": "code",
   "execution_count": null,
   "metadata": {},
   "outputs": [],
   "source": [
    "plate_layout.sort_values(by=['plasmid', 'inducerConcentration'], inplace=True)"
   ]
  },
  {
   "cell_type": "code",
   "execution_count": null,
   "metadata": {
    "scrolled": true
   },
   "outputs": [],
   "source": [
    "plate_layout"
   ]
  },
  {
   "cell_type": "code",
   "execution_count": null,
   "metadata": {},
   "outputs": [],
   "source": [
    "max_points = 30000\n",
    "coli_data = []\n",
    "\n",
    "for file in plate_layout['coli_file']:\n",
    "    if file == '':\n",
    "        coli_data.append(None)\n",
    "    else:\n",
    "        data = pickle.load(open(file, 'rb'))\n",
    "        #data.flow_frame = data.flow_frame[:max_points]\n",
    "        coli_data.append(data)"
   ]
  },
  {
   "cell_type": "code",
   "execution_count": null,
   "metadata": {},
   "outputs": [],
   "source": [
    "samples = plate_layout['sample']\n",
    "len(samples)"
   ]
  },
  {
   "cell_type": "code",
   "execution_count": null,
   "metadata": {},
   "outputs": [],
   "source": [
    "%%time\n",
    "df_list = [ data.flow_frame if data is not None else None for data in coli_data ]\n",
    "batch_p.central_2d_guassian(df_list, alpha=0.3)"
   ]
  },
  {
   "cell_type": "code",
   "execution_count": null,
   "metadata": {
    "scrolled": true
   },
   "outputs": [],
   "source": [
    "%%time \n",
    "for data in coli_data:\n",
    "    data.save_as_pickle()"
   ]
  },
  {
   "cell_type": "markdown",
   "metadata": {},
   "source": [
    "Plot the central Gaussian gating results (used for mean fluoresence)"
   ]
  },
  {
   "cell_type": "code",
   "execution_count": null,
   "metadata": {},
   "outputs": [],
   "source": [
    "no_row = int(np.ceil(len(coli_data)/4))\n",
    "plt.rcParams[\"figure.figsize\"] = [4*4, 4*no_row]\n",
    "fig, axs = plt.subplots(no_row, 4)\n",
    "axs = axs.flatten()\n",
    "\n",
    "for ax, data in zip(axs, coli_data):\n",
    "    if data is not None:\n",
    "        df = data.flow_frame\n",
    "        df = df[df.is_singlet]\n",
    "        df = df[df['FSC-A']>0]\n",
    "        df = df[df['SSC-A']>0]\n",
    "\n",
    "        x = np.log10(df['FSC-A'])\n",
    "        y = np.log10(df['SSC-A'])\n",
    "        ax.grid(False)\n",
    "        ax.hist2d(x, y, norm=colors.LogNorm(), bins=50);\n",
    "\n",
    "        x = np.log10(df[df.is_central]['FSC-A'])\n",
    "        y = np.log10(df[df.is_central]['SSC-A'])\n",
    "        ax.plot(x, y, 'o', alpha=0.1, ms=2);"
   ]
  },
  {
   "cell_type": "code",
   "execution_count": null,
   "metadata": {},
   "outputs": [],
   "source": []
  },
  {
   "cell_type": "markdown",
   "metadata": {},
   "source": [
    "Plot histograms of calibrated ('MEF') data to check that things worked ok:"
   ]
  },
  {
   "cell_type": "code",
   "execution_count": null,
   "metadata": {
    "scrolled": true
   },
   "outputs": [],
   "source": [
    "fl_channel = 'BL1-A-MEF'\n",
    "x_min = -3000\n",
    "x_max = 150000\n",
    "\n",
    "geo_mean_list = []\n",
    "geo_mean_err_list = []\n",
    "count_list = []\n",
    "\n",
    "mean_list = []\n",
    "mean_err_list = []\n",
    "central_count_list = []\n",
    "\n",
    "bins = np.linspace(x_min, x_max, 200)\n",
    "\n",
    "sns.set()\n",
    "plt.rcParams[\"figure.figsize\"] = [16, 4]\n",
    "\n",
    "for data, samp in zip(coli_data, plate_layout['sample']):\n",
    "    fig, axs = plt.subplots(1, 2)\n",
    "    \n",
    "    if data is not None:\n",
    "        axs[1].set_yscale('log')\n",
    "\n",
    "        df_0 = data.flow_frame\n",
    "        \n",
    "        # geometric mean\n",
    "        df = df_0[df_0.is_singlet]\n",
    "        signal = df[fl_channel].copy()\n",
    "        signal = signal - back_mu\n",
    "        signal = signal[signal>0]\n",
    "        geo_mean = np.exp( np.log(signal).mean() )\n",
    "        geo_mean_err = ( np.log(signal).std() )/( np.sqrt(len(signal)) ) * geo_mean\n",
    "        geo_mean_list.append(geo_mean)\n",
    "        geo_mean_err_list.append(geo_mean_err)\n",
    "        count_list.append(len(signal))\n",
    "        \n",
    "        # mean\n",
    "        df = df_0[df_0.is_central]\n",
    "        signal = df[fl_channel].copy()\n",
    "        signal = signal - back_mu\n",
    "        mean = np.mean(signal)\n",
    "        mean_err = stats.sem(signal)\n",
    "        mean_list.append(mean)\n",
    "        mean_err_list.append(mean_err)\n",
    "        central_count_list.append(len(signal))\n",
    "        \n",
    "        # plot histograms\n",
    "        for ax in axs:\n",
    "            label = samp + ', YFP signal'\n",
    "            ax.text(0.5, 0.9, label, horizontalalignment='center', verticalalignment='center',\n",
    "                    transform=ax.transAxes)\n",
    "            df = df_0[df_0.is_cell]\n",
    "            ax.hist(df[fl_channel], density=False, bins=bins, alpha=0.3)\n",
    "            df = df_0[df_0.is_singlet]\n",
    "            ax.hist(df[fl_channel], density=False, bins=bins, alpha=0.3)\n",
    "            df = df_0[df_0.is_central]\n",
    "            ax.hist(df[fl_channel], density=False, bins=bins, alpha=0.5);\n",
    "    else:\n",
    "        geo_mean_list.append(np.nan)\n",
    "        geo_mean_err_list.append(np.nan)\n",
    "        count_list.append(0)\n",
    "        \n",
    "        mean_list.append(np.nan)\n",
    "        mean_err_list.append(np.nan)\n",
    "        central_count_list.append(0)"
   ]
  },
  {
   "cell_type": "code",
   "execution_count": null,
   "metadata": {},
   "outputs": [],
   "source": [
    "plate_layout['geo_mean'] = geo_mean_list\n",
    "plate_layout['geo_mean_err'] = geo_mean_err_list\n",
    "plate_layout['singlet_count'] = count_list\n",
    "\n",
    "plate_layout['mean'] = mean_list\n",
    "plate_layout['mean_err'] = mean_err_list\n",
    "plate_layout['central_count'] = central_count_list\n",
    "\n",
    "plate_layout['background_signal'] = back_mu"
   ]
  },
  {
   "cell_type": "code",
   "execution_count": null,
   "metadata": {
    "scrolled": true
   },
   "outputs": [],
   "source": [
    "plate_layout"
   ]
  },
  {
   "cell_type": "code",
   "execution_count": null,
   "metadata": {},
   "outputs": [],
   "source": [
    "print(plate_layout[\"singlet_count\"].mean())\n",
    "print(plate_layout[\"singlet_count\"].std())\n",
    "print(plate_layout[\"singlet_count\"].min())\n",
    "print(plate_layout[\"singlet_count\"].max())"
   ]
  },
  {
   "cell_type": "code",
   "execution_count": null,
   "metadata": {},
   "outputs": [],
   "source": [
    "inducerConc = plate_layout['inducerConcentration'].tolist()\n",
    "inducerUnits = plate_layout['inducerUnits'].tolist()\n",
    "for i in range(len(inducerConc)):\n",
    "    if inducerUnits[i] == \"mmol/L\":\n",
    "        inducerUnits[i] = \"umol/L\"\n",
    "        inducerConc[i] = inducerConc[i]*1000\n",
    "plate_layout['inducerConcentration'] = inducerConc\n",
    "plate_layout['inducerUnits'] = inducerUnits"
   ]
  },
  {
   "cell_type": "code",
   "execution_count": null,
   "metadata": {
    "scrolled": true
   },
   "outputs": [],
   "source": [
    "plasmids = np.unique(plate_layout['plasmid'].values)\n",
    "plasmids"
   ]
  },
  {
   "cell_type": "code",
   "execution_count": null,
   "metadata": {},
   "outputs": [],
   "source": [
    "experiment = main_directory[main_directory.rfind('\\\\')+1:]\n",
    "experiment"
   ]
  },
  {
   "cell_type": "code",
   "execution_count": null,
   "metadata": {},
   "outputs": [],
   "source": [
    "maxConc = plate_layout['inducerConcentration'].max()\n",
    "minConc = plate_layout[plate_layout['inducerConcentration']>0]['inducerConcentration'].min()"
   ]
  },
  {
   "cell_type": "code",
   "execution_count": null,
   "metadata": {},
   "outputs": [],
   "source": [
    "inducer, inducerU"
   ]
  },
  {
   "cell_type": "code",
   "execution_count": null,
   "metadata": {},
   "outputs": [],
   "source": []
  },
  {
   "cell_type": "code",
   "execution_count": null,
   "metadata": {
    "scrolled": true
   },
   "outputs": [],
   "source": [
    "plt.rcParams[\"figure.figsize\"] = [16, 8]\n",
    "\n",
    "for r in plasmids:\n",
    "    f = plate_layout[plate_layout['plasmid']==r]\n",
    "    fig, axs = plt.subplots(2, 2)\n",
    "    \n",
    "    for mu in ['geo_mean', 'mean']:\n",
    "        for ax in axs[0]:\n",
    "            ax.plot(f['inducerConcentration'], f[mu], 'o');\n",
    "            ax.set_xlabel(f\"ligand concentration ({inducerU})\", size=12)\n",
    "            ax.set_ylabel('YFP mean and geometric mean (MEF)', size=12)\n",
    "            ax.set_title(exStrain + ', plasmid: ' + r, size=14)\n",
    "        axs[0,1].set_xscale('symlog', linthresh=minConc);\n",
    "        axs[0,1].set_xlim(-minConc/4, maxConc*2);\n",
    "        ax = axs[1,1]\n",
    "        ax.plot(f['inducerConcentration'], f[mu], 'o');\n",
    "        ax.set_xlabel(f\"ligand concentration ({inducerU})\", size=12)\n",
    "        ax.set_ylabel('YFP mean and geometric mean (MEF)', size=12)\n",
    "        ax.set_xscale('symlog', linthresh=minConc);\n",
    "        ax.set_xlim(-minConc/4, maxConc*2);\n",
    "        ax.set_yscale('log');\n",
    "        ax = axs[1,0]\n",
    "        ax.plot(f['inducerConcentration'], f[mu], 'o');\n",
    "        ax.set_xlabel(f\"ligand concentration ({inducerU})\", size=12)\n",
    "        ax.set_ylabel('YFP mean and geometric mean (MEF)', size=12)\n",
    "        ax.set_yscale('log');"
   ]
  },
  {
   "cell_type": "code",
   "execution_count": null,
   "metadata": {},
   "outputs": [],
   "source": [
    "experiment"
   ]
  },
  {
   "cell_type": "code",
   "execution_count": null,
   "metadata": {},
   "outputs": [],
   "source": [
    "cytometry_directory"
   ]
  },
  {
   "cell_type": "code",
   "execution_count": null,
   "metadata": {},
   "outputs": [],
   "source": [
    "os.chdir(cytometry_directory)\n",
    "plate_pickle_file = experiment + f'_{plate_str}_summary.frame_pkl'\n",
    "with open(plate_pickle_file, 'wb') as f:\n",
    "    pickle.dump(plate_layout, f)"
   ]
  },
  {
   "cell_type": "code",
   "execution_count": null,
   "metadata": {
    "scrolled": true
   },
   "outputs": [],
   "source": [
    "plt.rcParams[\"figure.figsize\"] = [16, 8]\n",
    "\n",
    "for r in plasmids:\n",
    "    f = plate_layout[plate_layout['plasmid']==r]\n",
    "    fig, axs = plt.subplots(2, 2)\n",
    "    \n",
    "    for count in ['singlet_count', 'central_count']:\n",
    "        for ax in axs[0]:\n",
    "            ax.plot(f['inducerConcentration'], f[count], 'o');\n",
    "            ax.set_xlabel(f\"ligand concentration ({inducerU})\", size=12)\n",
    "            ax.set_ylabel('Singlet Count', size=12)\n",
    "            ax.set_title(exStrain + ', plasmid: ' + r, size=14)\n",
    "        axs[0,1].set_xscale('symlog', linthresh=minConc);\n",
    "        axs[0,1].set_xlim(-minConc/4, maxConc*2);\n",
    "        ax = axs[1,1]\n",
    "        ax.plot(f['inducerConcentration'], f[count], 'o');\n",
    "        ax.set_xlabel(f\"ligand concentration ({inducerU})\", size=12)\n",
    "        ax.set_ylabel('Singlet Count', size=12)\n",
    "        ax.set_xscale('symlog', linthresh=minConc);\n",
    "        ax.set_xlim(-minConc/4, maxConc*2);\n",
    "        ax.set_yscale('log');\n",
    "        #ax.set_ylim(50, 20000);\n",
    "        ax = axs[1,0]\n",
    "        ax.plot(f['inducerConcentration'], f[count], 'o');\n",
    "        ax.set_xlabel(f\"ligand concentration ({inducerU})\", size=12)\n",
    "        ax.set_ylabel('Singlet Count', size=12)\n",
    "    #     ax.set_xscale('log');\n",
    "    #     ax.set_xlim(minConc/2, maxConc*2);\n",
    "        ax.set_yscale('log');\n",
    "        #ax.set_ylim(50, 20000);"
   ]
  },
  {
   "cell_type": "code",
   "execution_count": null,
   "metadata": {},
   "outputs": [],
   "source": [
    "plate_layout.columns.values"
   ]
  },
  {
   "cell_type": "code",
   "execution_count": null,
   "metadata": {},
   "outputs": [],
   "source": [
    "experiment"
   ]
  },
  {
   "cell_type": "code",
   "execution_count": null,
   "metadata": {},
   "outputs": [],
   "source": []
  }
 ],
 "metadata": {
  "kernelspec": {
   "display_name": "Python [conda env:gsf_ims]",
   "language": "python",
   "name": "conda-env-gsf_ims-py"
  },
  "language_info": {
   "codemirror_mode": {
    "name": "ipython",
    "version": 3
   },
   "file_extension": ".py",
   "mimetype": "text/x-python",
   "name": "python",
   "nbconvert_exporter": "python",
   "pygments_lexer": "ipython3",
   "version": "3.11.4"
  }
 },
 "nbformat": 4,
 "nbformat_minor": 2
}
