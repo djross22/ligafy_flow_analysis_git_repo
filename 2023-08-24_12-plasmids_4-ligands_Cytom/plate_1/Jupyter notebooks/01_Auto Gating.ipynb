{
 "cells": [
  {
   "cell_type": "code",
   "execution_count": null,
   "metadata": {},
   "outputs": [],
   "source": [
    "import glob #filenames and pathnames utility\n",
    "import os   #operating sytem utility\n",
    "\n",
    "import flowgatenist as flow\n",
    "#from flowgatenist import gaussian_mixture as nist_gmm\n",
    "import flowgatenist.batch_process as batch_p\n",
    "\n",
    "import matplotlib.pyplot as plt\n",
    "from matplotlib import colors\n",
    "#from matplotlib.backends.backend_pdf import PdfPages\n",
    "\n",
    "import numpy as np\n",
    "import pandas as pd\n",
    "#from scipy import special\n",
    "#from scipy import misc\n",
    "\n",
    "#import pystan\n",
    "import pickle\n",
    "\n",
    "import seaborn as sns\n",
    "sns.set()\n",
    "\n",
    "%load_ext autoreload\n",
    "%autoreload 2\n",
    "\n",
    "%matplotlib inline"
   ]
  },
  {
   "cell_type": "markdown",
   "metadata": {},
   "source": [
    "Indicate the directory where the data is stored:"
   ]
  },
  {
   "cell_type": "code",
   "execution_count": null,
   "metadata": {},
   "outputs": [],
   "source": [
    "notebook_dir = os.getcwd()\n",
    "notebook_dir"
   ]
  },
  {
   "cell_type": "code",
   "execution_count": null,
   "metadata": {},
   "outputs": [],
   "source": [
    "main_directory = notebook_dir[:notebook_dir.rfind(\"\\\\\")]\n",
    "os.chdir(main_directory)\n",
    "main_directory"
   ]
  },
  {
   "cell_type": "markdown",
   "metadata": {},
   "source": [
    "Then look at acatter plots of the buffer blanks to choose which one to use for background subtration:"
   ]
  },
  {
   "cell_type": "code",
   "execution_count": null,
   "metadata": {},
   "outputs": [],
   "source": [
    "glob.glob('*blanks*.fcs')"
   ]
  },
  {
   "cell_type": "code",
   "execution_count": null,
   "metadata": {},
   "outputs": [],
   "source": [
    "os.chdir(main_directory)\n",
    "back_file = glob.glob('*blanks_A3.fcs')[0]\n",
    "s_back = flow.io.FCSDataFrame(back_file)\n",
    "s_back.flow_frame = s_back.flow_frame.loc[s_back.flow_frame['FSC-H'] > 0]\n",
    "s_back.flow_frame = s_back.flow_frame.loc[s_back.flow_frame['SSC-H'] > 0]\n",
    "s_back.flow_frame['log_fsc'] = np.log10(s_back.flow_frame['FSC-H'])\n",
    "s_back.flow_frame['log_ssc'] = np.log10(s_back.flow_frame['SSC-H'])\n",
    "x_bins = np.linspace(2, 5.5, 200)\n",
    "y_bins = np.linspace(2.4, 5.5, 200)\n",
    "x = s_back.flow_frame['log_fsc']\n",
    "y = s_back.flow_frame['log_ssc']\n",
    "plt.style.use('classic')\n",
    "plt.rcParams[\"figure.figsize\"] = [8, 4]\n",
    "fig, axs = plt.subplots(1, 2)\n",
    "axs[0].hist2d(x, y, bins=[x_bins, y_bins], rasterized=True)\n",
    "axs[1].hist2d(x, y, bins=[x_bins, y_bins], norm=colors.LogNorm(), rasterized=True);\n",
    "s_back.flow_frame.shape"
   ]
  },
  {
   "cell_type": "markdown",
   "metadata": {},
   "source": [
    "Then run the fcs_to_dataframe batch process:"
   ]
  },
  {
   "cell_type": "code",
   "execution_count": null,
   "metadata": {
    "scrolled": true
   },
   "outputs": [],
   "source": [
    "batch_p.fcs_to_dataframe(main_directory, blank_file=back_file)"
   ]
  },
  {
   "cell_type": "markdown",
   "metadata": {},
   "source": [
    "Then the automated background subtraction gating:"
   ]
  },
  {
   "cell_type": "code",
   "execution_count": null,
   "metadata": {
    "scrolled": true
   },
   "outputs": [],
   "source": [
    "batch_p.background_subtract_gating(data_directory=main_directory,\n",
    "                                   top_directory='ligafy_flow_analysis_git_repo',\n",
    "                                   cell_type='DH10B',\n",
    "                                   num_back_clusters=8,\n",
    "                                   num_cell_clusters=3,\n",
    "                                   num_memory_inits=5,\n",
    "                                   back_init=100,\n",
    "                                   random_cell_inits=50,\n",
    "                                   show_plots=True,\n",
    "                                   trim_alpha=0.90)"
   ]
  },
  {
   "cell_type": "markdown",
   "metadata": {},
   "source": [
    "Check the plots (also saved in the pdf file output, \"cell vs. background gating plots.pdf\"), to verify that cell gating was sucessful.\n",
    "Then run the singlet gating:"
   ]
  },
  {
   "cell_type": "code",
   "execution_count": null,
   "metadata": {
    "scrolled": true
   },
   "outputs": [],
   "source": [
    "batch_p.singlet_gating(data_directory=main_directory,\n",
    "                       top_directory='ligafy_flow_analysis_git_repo',\n",
    "                       cell_type='DH10B',\n",
    "                       random_singlet_inits=100,\n",
    "                       show_plots=True)"
   ]
  },
  {
   "cell_type": "code",
   "execution_count": null,
   "metadata": {},
   "outputs": [],
   "source": []
  },
  {
   "cell_type": "code",
   "execution_count": null,
   "metadata": {},
   "outputs": [],
   "source": [
    "coli_files, blank_file_list, bead_file_list = batch_p.auto_find_files()\n",
    "file_list = coli_files\n",
    "\n",
    "count_list = []\n",
    "cell_list = []\n",
    "singlet_list = []\n",
    "\n",
    "for file in file_list:\n",
    "        data = pickle.load(open(file, 'rb'))\n",
    "        df = data.flow_frame\n",
    "        n = len(df)\n",
    "        count_list.append(n)\n",
    "        n = len(df[df.is_cell])\n",
    "        cell_list.append(n)\n",
    "        n = len(df[df.is_singlet])\n",
    "        singlet_list.append(n)"
   ]
  },
  {
   "cell_type": "code",
   "execution_count": null,
   "metadata": {
    "scrolled": true
   },
   "outputs": [],
   "source": [
    "plt.rcParams[\"figure.figsize\"] = [6, 4]\n",
    "fig, axs = plt.subplots()\n",
    "x = [n+1 for n in range(len(count_list))]\n",
    "axs.plot(x, count_list, 'o');\n",
    "axs.plot(x, cell_list, 'o');\n",
    "axs.plot(x, singlet_list, 'o');\n",
    "axs.set_yscale('log');"
   ]
  },
  {
   "cell_type": "code",
   "execution_count": null,
   "metadata": {},
   "outputs": [],
   "source": []
  }
 ],
 "metadata": {
  "kernelspec": {
   "display_name": "Python [conda env:gsf_ims]",
   "language": "python",
   "name": "conda-env-gsf_ims-py"
  },
  "language_info": {
   "codemirror_mode": {
    "name": "ipython",
    "version": 3
   },
   "file_extension": ".py",
   "mimetype": "text/x-python",
   "name": "python",
   "nbconvert_exporter": "python",
   "pygments_lexer": "ipython3",
   "version": "3.11.4"
  }
 },
 "nbformat": 4,
 "nbformat_minor": 2
}
