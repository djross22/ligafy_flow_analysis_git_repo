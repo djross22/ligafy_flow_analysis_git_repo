{
 "cells": [
  {
   "cell_type": "code",
   "execution_count": null,
   "metadata": {},
   "outputs": [],
   "source": [
    "import glob #filenames and pathnames utility\n",
    "import os   #operating sytem utility\n",
    "\n",
    "import flowgatenist as flow\n",
    "#from flowgatenist import gaussian_mixture as nist_gmm\n",
    "import flowgatenist.batch_process as batch_p\n",
    "\n",
    "import matplotlib.pyplot as plt\n",
    "from matplotlib import colors\n",
    "#from matplotlib.backends.backend_pdf import PdfPages\n",
    "\n",
    "import numpy as np\n",
    "import pandas as pd\n",
    "#from scipy import special\n",
    "#from scipy import misc\n",
    "\n",
    "#import pystan\n",
    "import pickle\n",
    "\n",
    "import seaborn as sns\n",
    "sns.set()\n",
    "\n",
    "%load_ext autoreload\n",
    "%autoreload 2\n",
    "\n",
    "%matplotlib inline"
   ]
  },
  {
   "cell_type": "markdown",
   "metadata": {},
   "source": [
    "Indicate the directory where the data is stored:"
   ]
  },
  {
   "cell_type": "code",
   "execution_count": null,
   "metadata": {},
   "outputs": [],
   "source": [
    "notebook_dir = os.getcwd()\n",
    "notebook_dir"
   ]
  },
  {
   "cell_type": "code",
   "execution_count": null,
   "metadata": {},
   "outputs": [],
   "source": [
    "main_directory = notebook_dir[:notebook_dir.rfind(\"\\\\\")]\n",
    "os.chdir(main_directory)\n",
    "main_directory"
   ]
  },
  {
   "cell_type": "markdown",
   "metadata": {},
   "source": [
    "Then check bead data file to make sure it has ~10,000 counts"
   ]
  },
  {
   "cell_type": "code",
   "execution_count": null,
   "metadata": {},
   "outputs": [],
   "source": [
    "bead_file = glob.glob('*bead*H12*.fcs_pkl')[0]\n",
    "bead_file"
   ]
  },
  {
   "cell_type": "code",
   "execution_count": null,
   "metadata": {},
   "outputs": [],
   "source": [
    "bead_data = pickle.load(open(bead_file, 'rb'))\n",
    "bead_data.flow_frame.shape"
   ]
  },
  {
   "cell_type": "markdown",
   "metadata": {},
   "source": [
    "Then plot the bead data as YL1-A vs. BL1-A to check the number of bead clusters to use for fitting"
   ]
  },
  {
   "cell_type": "code",
   "execution_count": null,
   "metadata": {},
   "outputs": [],
   "source": [
    "sns.set()\n",
    "\n",
    "plt.rcParams[\"figure.figsize\"] = [12,6]\n",
    "fig, axs = plt.subplots(1, 2)\n",
    "\n",
    "x = bead_data.flow_frame['BL1-A']\n",
    "y = bead_data.flow_frame['YL1-A']\n",
    "\n",
    "x_bins2 = np.linspace(x.min(), x.max(), 200)\n",
    "x_bins2 = np.linspace(x.min(), 1000000, 200)\n",
    "y_bins2 = np.linspace(0, 400000, 200)\n",
    "\n",
    "\n",
    "axs[0].hist2d(x, y, bins=200, norm=colors.LogNorm(), rasterized=True);\n",
    "\n",
    "df = bead_data.flow_frame\n",
    "x = df['BL1-A']\n",
    "y = df['YL1-A']\n",
    "t = df['Time']\n",
    "axs[1].plot(t, y, 'o', alpha=0.1, ms=5);"
   ]
  },
  {
   "cell_type": "markdown",
   "metadata": {},
   "source": [
    "Looks like 7 of the bead populations are on scale, so set num_bead_populations to 7 in calling the fit_bead_data method\n",
    "\n",
    "By default, the parameters bead_init, singlet_init, and bead_population_init are set to large values to reduce the probability of a bad fit resulting from the random GMM initializations. This casues the method to run slowly. For quick testing, with human oversite, they could be reduced to smaller values."
   ]
  },
  {
   "cell_type": "markdown",
   "metadata": {},
   "source": [
    "With 6 or 7 bead populations on scale, it is difficult to get a good result with a random initialization, and with outlier data. So, use the means and covariances from a previous fit (or manually supplied initialization, look at the third plot with orange x's to see how good/bad the manual initializations are). Input variables: fixed_means and fixed_covars "
   ]
  },
  {
   "cell_type": "code",
   "execution_count": null,
   "metadata": {},
   "outputs": [],
   "source": [
    "fixed_b = np.array([4.06498017e+02, 2.99833770e+03, 7.67144245e+03, 2.15945949e+04,\n",
    "        5.31619404e+04, 1.51693808e+05, 4.53615788e+05])*28/45\n",
    "\n",
    "fixed_y = np.array([   388.24753729,    978.54102811,   2245.85074931,   6011.33521244,\n",
    "         14705.68308142,  42165.89008255, 127685.18467742])\n",
    "fixed_means = np.asarray([ [b, y] for (b, y) in zip(fixed_b, fixed_y) ])\n",
    "\n",
    "fixed_covars = np.array([[  410030.80843786,    46141.67545161],\n",
    "        [  584518.72158146,    59154.99142766],\n",
    "        [  987421.29489873,    95094.67456259],\n",
    "        [ 2104919.01831125,   209859.40250991],\n",
    "        [ 4816284.87397532,   470348.2314993 ],\n",
    "        [13939125.3609858 ,  1334323.55322485],\n",
    "        [43867870.75180154,  3541850.85089593]])"
   ]
  },
  {
   "cell_type": "code",
   "execution_count": null,
   "metadata": {},
   "outputs": [],
   "source": [
    "fixed_b"
   ]
  },
  {
   "cell_type": "code",
   "execution_count": null,
   "metadata": {},
   "outputs": [],
   "source": [
    "fixed_y"
   ]
  },
  {
   "cell_type": "code",
   "execution_count": null,
   "metadata": {
    "scrolled": true
   },
   "outputs": [],
   "source": [
    "batch_p.fit_bead_data(bead_file=bead_file,\n",
    "                      data_directory=main_directory,\n",
    "                      num_bead_populations=7,\n",
    "                      bead_init=10,\n",
    "                      singlet_init=5,\n",
    "                      num_singlet_clusters=3,\n",
    "                      bead_population_init=100,\n",
    "                      show_plots=True,\n",
    "                      pop_init_means=fixed_means,\n",
    "                      pop_init_cov=fixed_covars,\n",
    "                      outlier_quantile=0.1, \n",
    "                      upper_threshold=[700000, 200000], \n",
    "                      lower_threshold=[-100000, -100000])"
   ]
  },
  {
   "cell_type": "markdown",
   "metadata": {},
   "source": [
    "Then apply the bead calibration to all the data files in the main_directory"
   ]
  },
  {
   "cell_type": "code",
   "execution_count": null,
   "metadata": {
    "scrolled": true
   },
   "outputs": [],
   "source": [
    "batch_p.batch_apply_bead_cal(bead_file=bead_file, data_directory=main_directory, fl_channel='BL1-A')"
   ]
  },
  {
   "cell_type": "code",
   "execution_count": null,
   "metadata": {},
   "outputs": [],
   "source": []
  },
  {
   "cell_type": "code",
   "execution_count": null,
   "metadata": {
    "scrolled": true
   },
   "outputs": [],
   "source": [
    "batch_p.batch_apply_bead_cal(bead_file=bead_file, data_directory=main_directory, fl_channel='YL1-A')"
   ]
  },
  {
   "cell_type": "markdown",
   "metadata": {},
   "source": [
    "Background fit:"
   ]
  },
  {
   "cell_type": "code",
   "execution_count": null,
   "metadata": {
    "scrolled": false
   },
   "outputs": [],
   "source": [
    "stan_back_fit_b = batch_p.batch_stan_background_fit(data_directory=main_directory, fl_channel='BL1-A-MEF', show_plots=True,\n",
    "                                                    fit_max=250, hist_bins=100)\n",
    "stan_back_fit_b.summary()"
   ]
  },
  {
   "cell_type": "code",
   "execution_count": null,
   "metadata": {},
   "outputs": [],
   "source": [
    "stan_back_fit_samples = stan_back_fit_b.stan_variable('mu')\n",
    "back_mu = np.mean(stan_back_fit_samples)\n",
    "back_mu"
   ]
  },
  {
   "cell_type": "code",
   "execution_count": null,
   "metadata": {},
   "outputs": [],
   "source": [
    "main_directory"
   ]
  },
  {
   "cell_type": "code",
   "execution_count": null,
   "metadata": {},
   "outputs": [],
   "source": []
  },
  {
   "cell_type": "code",
   "execution_count": null,
   "metadata": {},
   "outputs": [],
   "source": []
  }
 ],
 "metadata": {
  "kernelspec": {
   "display_name": "Python [conda env:gsf_ims]",
   "language": "python",
   "name": "conda-env-gsf_ims-py"
  },
  "language_info": {
   "codemirror_mode": {
    "name": "ipython",
    "version": 3
   },
   "file_extension": ".py",
   "mimetype": "text/x-python",
   "name": "python",
   "nbconvert_exporter": "python",
   "pygments_lexer": "ipython3",
   "version": "3.11.4"
  }
 },
 "nbformat": 4,
 "nbformat_minor": 2
}
