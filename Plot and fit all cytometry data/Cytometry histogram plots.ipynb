{
 "cells": [
  {
   "cell_type": "code",
   "execution_count": null,
   "metadata": {},
   "outputs": [],
   "source": [
    "import glob #filenames and pathnames utility\n",
    "import os   #operating sytem utility\n",
    "import warnings\n",
    "\n",
    "import flowgatenist as flow\n",
    "#from flowgatenist import gaussian_mixture as nist_gmm\n",
    "import flowgatenist.batch_process as batch_p\n",
    "\n",
    "from Bio.Seq import Seq\n",
    "\n",
    "import matplotlib.pyplot as plt\n",
    "from matplotlib import colors\n",
    "import matplotlib.dates\n",
    "#from matplotlib.backends.backend_pdf import PdfPages\n",
    "\n",
    "import numpy as np\n",
    "import pandas as pd\n",
    "from scipy.optimize import curve_fit\n",
    "#from scipy import special\n",
    "#from scipy import misc\n",
    "\n",
    "import cmdstanpy\n",
    "import gsf_ims_fitness.stan_utility as stan_utility\n",
    "import pickle\n",
    "\n",
    "import seaborn as sns\n",
    "sns.set()\n",
    "\n",
    "%load_ext autoreload\n",
    "%autoreload 2\n",
    "\n",
    "%matplotlib inline\n",
    "\n",
    "# set global default style:\n",
    "sns.set_style(\"white\")\n",
    "sns.set_style(\"ticks\", {'xtick.direction':'in', 'xtick.top':True, 'ytick.direction':'in', 'ytick.right':True, })\n",
    "#sns.set_style({\"axes.labelsize\": 20, \"xtick.labelsize\" : 16, \"ytick.labelsize\" : 16})\n",
    "\n",
    "plt.rcParams['axes.labelsize'] = 16\n",
    "plt.rcParams['xtick.labelsize'] = 14\n",
    "plt.rcParams['ytick.labelsize'] = 14\n",
    "\n",
    "plt.rcParams['legend.fontsize'] = 12\n",
    "plt.rcParams['legend.edgecolor'] = 'k'"
   ]
  },
  {
   "cell_type": "markdown",
   "metadata": {},
   "source": [
    "Indicate the directory where the notebook is saved:"
   ]
  },
  {
   "cell_type": "code",
   "execution_count": null,
   "metadata": {},
   "outputs": [],
   "source": []
  },
  {
   "cell_type": "code",
   "execution_count": null,
   "metadata": {},
   "outputs": [],
   "source": [
    "notebook_dir = os.getcwd()\n",
    "notebook_dir"
   ]
  },
  {
   "cell_type": "code",
   "execution_count": null,
   "metadata": {},
   "outputs": [],
   "source": [
    "main_directory = notebook_dir[:notebook_dir.rfind(\"\\\\\")]\n",
    "main_directory"
   ]
  },
  {
   "cell_type": "code",
   "execution_count": null,
   "metadata": {
    "scrolled": true
   },
   "outputs": [],
   "source": [
    "os.chdir(main_directory)\n",
    "data_directories = glob.glob('*_Cytom*')\n",
    "data_directories.sort()\n",
    "data_directories = np.array(data_directories)\n",
    "data_directories"
   ]
  },
  {
   "cell_type": "code",
   "execution_count": null,
   "metadata": {},
   "outputs": [],
   "source": []
  },
  {
   "cell_type": "code",
   "execution_count": null,
   "metadata": {},
   "outputs": [],
   "source": [
    "os.chdir(notebook_dir)\n",
    "file_name = 'Ligafy_cytom_data_all.pkl'\n",
    "full_summary = pickle.load(open(file_name, 'rb'))"
   ]
  },
  {
   "cell_type": "code",
   "execution_count": null,
   "metadata": {},
   "outputs": [],
   "source": [
    "df = full_summary\n",
    "df = df[df.variant=='pAN-1201']\n",
    "\n",
    "non_fluorescent_mean = df['mean'].mean()\n",
    "non_fluorescent_mean_err = df['mean'].std()\n",
    "\n",
    "ok_to_fail_fit = []\n",
    "non_fluorescent_mean, non_fluorescent_mean_err"
   ]
  },
  {
   "cell_type": "code",
   "execution_count": null,
   "metadata": {},
   "outputs": [],
   "source": []
  },
  {
   "cell_type": "code",
   "execution_count": null,
   "metadata": {},
   "outputs": [],
   "source": []
  },
  {
   "cell_type": "code",
   "execution_count": null,
   "metadata": {},
   "outputs": [],
   "source": [
    "np.unique(full_summary.inducerId)"
   ]
  },
  {
   "cell_type": "code",
   "execution_count": null,
   "metadata": {},
   "outputs": [],
   "source": []
  },
  {
   "cell_type": "code",
   "execution_count": null,
   "metadata": {
    "scrolled": true
   },
   "outputs": [],
   "source": [
    "%%time\n",
    "rows_to_plot = ['B', 'E']\n",
    "\n",
    "conc_dict = {}\n",
    "cytom_data_dict = {}\n",
    "\n",
    "for date_plate, df_0 in full_summary.groupby('date_plate'):\n",
    "    for row in rows_to_plot:\n",
    "        df = df_0\n",
    "        df = df[df.row==row]\n",
    "        if len(df) > 0:\n",
    "            df = df.sort_values(by='inducerConcentration')\n",
    "            lig_list = np.unique(df.inducerId)\n",
    "            lig_list = lig_list[lig_list!='none']\n",
    "            if (len(lig_list)==1):\n",
    "                ligand = lig_list[0]\n",
    "                variant = df.iloc[-1].variant\n",
    "                #print(row, ligand, variant, date_plate)\n",
    "                if (variant, ligand) in conc_dict:\n",
    "                    print(f'duplicate row for {(variant, ligand)}')\n",
    "                conc_dict[(variant, ligand)] = list(df.inducerConcentration)\n",
    "                \n",
    "                date = date_plate[:date_plate.find('_')]\n",
    "                plate = date_plate[date_plate.find('_')+1:]\n",
    "                x = data_directories\n",
    "                x = x[[date in x for x in x]]\n",
    "                direct = x[0]\n",
    "                \n",
    "                os.chdir(main_directory)\n",
    "                os.chdir(direct)\n",
    "                os.chdir(plate.replace('-', '_'))\n",
    "                cytom_data = []\n",
    "                for file in df.coli_file:\n",
    "                    cytom_df = pickle.load(open(file, 'rb')).flow_frame\n",
    "                    cytom_df = cytom_df[cytom_df.is_central]\n",
    "                    data = cytom_df['BL1-A-MEF'].values\n",
    "                    cytom_data.append(data)\n",
    "                cytom_data_dict[(variant, ligand)] = cytom_data\n",
    "    #break"
   ]
  },
  {
   "cell_type": "code",
   "execution_count": null,
   "metadata": {},
   "outputs": [],
   "source": []
  },
  {
   "cell_type": "code",
   "execution_count": null,
   "metadata": {},
   "outputs": [],
   "source": [
    "list(cytom_data_dict.keys())"
   ]
  },
  {
   "cell_type": "code",
   "execution_count": null,
   "metadata": {},
   "outputs": [],
   "source": []
  },
  {
   "cell_type": "code",
   "execution_count": null,
   "metadata": {},
   "outputs": [],
   "source": [
    "# Subtract background and trim to keep only positive values:\n",
    "for (variant, ligand), cytom_data in cytom_data_dict.items():\n",
    "    new_data = []\n",
    "    for data in cytom_data:\n",
    "        data = data - non_fluorescent_mean\n",
    "        data = data[data>0]\n",
    "        new_data.append(data)\n",
    "    cytom_data_dict[(variant, ligand)] = new_data"
   ]
  },
  {
   "cell_type": "code",
   "execution_count": null,
   "metadata": {},
   "outputs": [],
   "source": []
  },
  {
   "cell_type": "code",
   "execution_count": null,
   "metadata": {},
   "outputs": [],
   "source": [
    "np.quantile(data, [0.0001, 0.9999]), (variant, ligand)"
   ]
  },
  {
   "cell_type": "code",
   "execution_count": null,
   "metadata": {},
   "outputs": [],
   "source": []
  },
  {
   "cell_type": "code",
   "execution_count": null,
   "metadata": {},
   "outputs": [],
   "source": []
  },
  {
   "cell_type": "code",
   "execution_count": null,
   "metadata": {
    "scrolled": true
   },
   "outputs": [],
   "source": [
    "os.chdir(notebook_dir)\n",
    "os.chdir('cytometry_histogram_plots')\n",
    "\n",
    "plt.rcParams[\"figure.figsize\"] = [8, 4]\n",
    "\n",
    "bin_quantiles = [0.005, 0.995]\n",
    "num_bins = 80\n",
    "\n",
    "hist_quantiles = [0.03, 0.99]\n",
    "\n",
    "for (variant, ligand), cytom_data in cytom_data_dict.items():\n",
    "    fig, ax = plt.subplots()\n",
    "    ax.set_xscale('log')\n",
    "    all_data = np.concatenate(cytom_data)\n",
    "    bin_min_max = np.log10(np.quantile(all_data, bin_quantiles))\n",
    "    bins = np.logspace(bin_min_max[0], bin_min_max[1], num_bins)\n",
    "    concentrations = conc_dict[(variant, ligand)]\n",
    "    for i, (x, conc) in enumerate(zip(cytom_data[::-1], concentrations[::-1])):\n",
    "        label = f'{conc:.4f} μmol/L'\n",
    "        zorder = len(cytom_data) - i - 1\n",
    "        hist_ret = np.histogram(x, bins=bins)\n",
    "        bar_max = hist_ret[0].max()\n",
    "        weights = np.array([1/bar_max]*len(x))\n",
    "        x_quantiles = np.quantile(x, hist_quantiles)\n",
    "        weights = weights[(x>x_quantiles[0])&(x<x_quantiles[1])]\n",
    "        x = x[(x>x_quantiles[0])&(x<x_quantiles[1])]\n",
    "        n, b, pat = ax.hist(x, bins=bins, weights=weights, bottom=zorder*0.7, alpha=0.7, label=label, ec='none')\n",
    "    ylim = ax.get_ylim()\n",
    "    ax.set_ylim(ylim[0]-0.25, ylim[1])\n",
    "    ax.set_xlabel('GFP Fluorescence (MEF)')\n",
    "    ax.set_title(f'{variant}, {ligand}', size=16)\n",
    "    ax.legend(loc='upper left', bbox_to_anchor= (1.02, 1), ncol=1);\n",
    "    #break\n",
    "    fig_file = f'{variant}_{ligand}.png'\n",
    "    #fig.savefig(fig_file)\n",
    "os.chdir(notebook_dir)"
   ]
  },
  {
   "cell_type": "code",
   "execution_count": null,
   "metadata": {},
   "outputs": [],
   "source": []
  },
  {
   "cell_type": "code",
   "execution_count": null,
   "metadata": {},
   "outputs": [],
   "source": [
    "from  scipy.stats import gaussian_kde"
   ]
  },
  {
   "cell_type": "code",
   "execution_count": null,
   "metadata": {},
   "outputs": [],
   "source": [
    "hist_colors = sns.color_palette(n_colors=12)"
   ]
  },
  {
   "cell_type": "code",
   "execution_count": null,
   "metadata": {},
   "outputs": [],
   "source": []
  },
  {
   "cell_type": "code",
   "execution_count": null,
   "metadata": {
    "scrolled": true
   },
   "outputs": [],
   "source": [
    "# Kernel density version-\n",
    "os.chdir(notebook_dir)\n",
    "os.chdir('cytometry_histogram_plots')\n",
    "\n",
    "plt.rcParams[\"figure.figsize\"] = [8, 4]\n",
    "\n",
    "bin_quantiles = [0.003, 0.997]\n",
    "num_bins = 80\n",
    "\n",
    "\n",
    "for (variant, ligand), cytom_data in cytom_data_dict.items():\n",
    "    fig, ax = plt.subplots()\n",
    "    ax2 = ax.twiny()\n",
    "    ax.set_xscale('log')\n",
    "    #ax.tick_params(top=False, labeltop=False, bottom=False, labelbottom=False)\n",
    "    ax2.tick_params(top=False, labeltop=False, bottom=False, labelbottom=False)\n",
    "    \n",
    "    all_data = np.concatenate(cytom_data)\n",
    "    bin_min_max = np.log10(np.quantile(all_data, bin_quantiles))\n",
    "    bins = np.logspace(bin_min_max[0], bin_min_max[1], num_bins)\n",
    "    concentrations = conc_dict[(variant, ligand)]\n",
    "    \n",
    "    if max(concentrations) >= 1000:\n",
    "        concentrations = np.array(concentrations)/1000\n",
    "        conc_units = 'mmol/L'\n",
    "    else:\n",
    "        conc_units = 'μmol/L'\n",
    "    \n",
    "    for i, (x, conc, color) in enumerate(zip(cytom_data[::-1], concentrations[::-1], hist_colors)):\n",
    "        label = f'{conc:.4f} {conc_units}'\n",
    "        zorder = len(cytom_data) - i - 1\n",
    "        bottom = zorder*0.7\n",
    "        \n",
    "        x = np.log10(x)\n",
    "        \n",
    "        x_plot = np.linspace(bin_min_max[0], bin_min_max[1], 100)\n",
    "        y_plot = gaussian_kde(x)(x_plot)\n",
    "        y_plot = y_plot/y_plot.max() + bottom\n",
    "        \n",
    "        ax2.plot(x_plot, y_plot, color=color, label=label)\n",
    "        ax2.fill_between(x_plot, y_plot, bottom, color=color, alpha=0.5)\n",
    "        \n",
    "    ylim = ax2.get_ylim()\n",
    "    ax2.set_ylim(ylim[0]-0.25, ylim[1])\n",
    "    \n",
    "    xlim = ax2.get_xlim()\n",
    "    ax.set_xlim(10**xlim[0], 10**xlim[1])\n",
    "    \n",
    "    ax.set_xlabel('GFP Fluorescence (MEF)')\n",
    "    ax.set_title(f'{variant}, {ligand}', size=16)\n",
    "    ax2.legend(loc='upper left', bbox_to_anchor= (1.02, 1), ncol=1);\n",
    "    #break\n",
    "    fig_file = f'{variant}_{ligand}.svg'\n",
    "    fig.savefig(fig_file, bbox_inches='tight')\n",
    "os.chdir(notebook_dir)"
   ]
  },
  {
   "cell_type": "code",
   "execution_count": null,
   "metadata": {},
   "outputs": [],
   "source": []
  },
  {
   "cell_type": "code",
   "execution_count": null,
   "metadata": {},
   "outputs": [],
   "source": []
  }
 ],
 "metadata": {
  "kernelspec": {
   "display_name": "Python [conda env:gsf_ims]",
   "language": "python",
   "name": "conda-env-gsf_ims-py"
  },
  "language_info": {
   "codemirror_mode": {
    "name": "ipython",
    "version": 3
   },
   "file_extension": ".py",
   "mimetype": "text/x-python",
   "name": "python",
   "nbconvert_exporter": "python",
   "pygments_lexer": "ipython3",
   "version": "3.11.4"
  }
 },
 "nbformat": 4,
 "nbformat_minor": 2
}
