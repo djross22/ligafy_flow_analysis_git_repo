{
 "cells": [
  {
   "cell_type": "code",
   "execution_count": null,
   "metadata": {},
   "outputs": [],
   "source": [
    "import glob #filenames and pathnames utility\n",
    "import os   #operating sytem utility\n",
    "import warnings\n",
    "\n",
    "import flowgatenist as flow\n",
    "#from flowgatenist import gaussian_mixture as nist_gmm\n",
    "import flowgatenist.batch_process as batch_p\n",
    "\n",
    "from Bio.Seq import Seq\n",
    "\n",
    "import matplotlib.pyplot as plt\n",
    "from matplotlib import colors\n",
    "import matplotlib.dates\n",
    "import matplotlib.patches as patches\n",
    "#from matplotlib.backends.backend_pdf import PdfPages\n",
    "\n",
    "import numpy as np\n",
    "import pandas as pd\n",
    "from scipy.optimize import curve_fit\n",
    "#from scipy import special\n",
    "#from scipy import misc\n",
    "\n",
    "import cmdstanpy\n",
    "import gsf_ims_fitness.stan_utility as stan_utility\n",
    "import pickle\n",
    "\n",
    "import seaborn as sns\n",
    "sns.set()\n",
    "\n",
    "%load_ext autoreload\n",
    "%autoreload 2\n",
    "\n",
    "%matplotlib inline\n",
    "\n",
    "# set global default style:\n",
    "sns.set_style(\"white\")\n",
    "sns.set_style(\"ticks\", {'xtick.direction':'in', 'xtick.top':True, 'ytick.direction':'in', 'ytick.right':True, })\n",
    "#sns.set_style({\"axes.labelsize\": 20, \"xtick.labelsize\" : 16, \"ytick.labelsize\" : 16})\n",
    "\n",
    "plt.rcParams['axes.labelsize'] = 20\n",
    "plt.rcParams['xtick.labelsize'] = 24\n",
    "plt.rcParams['ytick.labelsize'] = 24\n",
    "\n",
    "plt.rcParams['legend.fontsize'] = 14\n",
    "plt.rcParams['legend.edgecolor'] = 'k'\n",
    "\n",
    "plt.rcParams['xtick.major.pad'] = 8"
   ]
  },
  {
   "cell_type": "markdown",
   "metadata": {},
   "source": [
    "Indicate the directory where the notebook is saved:"
   ]
  },
  {
   "cell_type": "code",
   "execution_count": null,
   "metadata": {},
   "outputs": [],
   "source": [
    "ms=4*1.3"
   ]
  },
  {
   "cell_type": "code",
   "execution_count": null,
   "metadata": {},
   "outputs": [],
   "source": []
  },
  {
   "cell_type": "code",
   "execution_count": null,
   "metadata": {},
   "outputs": [],
   "source": [
    "notebook_dir = os.getcwd()\n",
    "notebook_dir"
   ]
  },
  {
   "cell_type": "code",
   "execution_count": null,
   "metadata": {},
   "outputs": [],
   "source": []
  },
  {
   "cell_type": "code",
   "execution_count": null,
   "metadata": {},
   "outputs": [],
   "source": [
    "os.chdir(notebook_dir)\n",
    "\n",
    "file_name = 'Ligafy_cytom_data_all.pkl'\n",
    "full_summary = pickle.load(open(file_name, 'rb'))\n",
    "\n",
    "pickle_file = 'Ligafy_cytom_Hill_fit_results_mean.pkl'\n",
    "variant_table = pickle.load(open(pickle_file, 'rb'))\n",
    "\n",
    "\n",
    "pickle_file = 'Ligafy_cytom_Hill_fits_mean.pkl'\n",
    "model_pickle_file = 'Ligafy_cytom_Hill_fits_stan_model.pkl'\n",
    "pickled_model = pickle.load(open(model_pickle_file, 'rb'))\n",
    "cytom_Hill_fits = pickle.load(open(pickle_file, 'rb'))"
   ]
  },
  {
   "cell_type": "code",
   "execution_count": null,
   "metadata": {},
   "outputs": [],
   "source": [
    "cytom_Hill_fits.keys()"
   ]
  },
  {
   "cell_type": "code",
   "execution_count": null,
   "metadata": {},
   "outputs": [],
   "source": [
    "sf = cytom_Hill_fits[('pLigify-LcLacI', 'D-arabitol')][3]"
   ]
  },
  {
   "cell_type": "code",
   "execution_count": null,
   "metadata": {},
   "outputs": [],
   "source": [
    "x = sf.stan_variable('ec50')\n",
    "np.mean(x), np.std(x)"
   ]
  },
  {
   "cell_type": "code",
   "execution_count": null,
   "metadata": {},
   "outputs": [],
   "source": [
    "x = cytom_Hill_fits[('pLigify-LcLacI', 'D-arabitol')][0].values\n",
    "max(x)"
   ]
  },
  {
   "cell_type": "code",
   "execution_count": null,
   "metadata": {},
   "outputs": [],
   "source": []
  },
  {
   "cell_type": "code",
   "execution_count": null,
   "metadata": {
    "scrolled": true
   },
   "outputs": [],
   "source": [
    "variant_table"
   ]
  },
  {
   "cell_type": "code",
   "execution_count": null,
   "metadata": {},
   "outputs": [],
   "source": [
    "def hill_funct(x, low, high, mid, n):\n",
    "    return low + (high-low)*( x**n )/( mid**n + x**n )"
   ]
  },
  {
   "cell_type": "code",
   "execution_count": null,
   "metadata": {},
   "outputs": [],
   "source": [
    "def add_break(ax, x_0=0.11, w=0.04, d_x=0.01, d_y=0.025, zorder=2000):\n",
    "    rect = [(x_0, -0.025), w, 1.05]\n",
    "    ax.add_patch(patches.Rectangle(*rect, transform=ax.transAxes, clip_on=False, zorder=zorder, color='w'));\n",
    "    zorder += 1\n",
    "    for y_0 in [0, 1]:\n",
    "        ax.plot([x_0-d_x, x_0+d_x], [y_0-d_y, y_0+d_y], transform=ax.transAxes, clip_on=False, zorder=zorder, color='k')\n",
    "        ax.plot([x_0-d_x+w, x_0+d_x+w], [y_0-d_y, y_0+d_y], transform=ax.transAxes, clip_on=False, zorder=zorder, color='k')"
   ]
  },
  {
   "cell_type": "code",
   "execution_count": null,
   "metadata": {},
   "outputs": [],
   "source": []
  },
  {
   "cell_type": "code",
   "execution_count": null,
   "metadata": {},
   "outputs": [],
   "source": [
    "np.unique(full_summary.variant)"
   ]
  },
  {
   "cell_type": "code",
   "execution_count": null,
   "metadata": {},
   "outputs": [],
   "source": [
    "len(np.unique(full_summary.variant))"
   ]
  },
  {
   "cell_type": "code",
   "execution_count": null,
   "metadata": {},
   "outputs": [],
   "source": [
    "np.unique(full_summary.inducerId)"
   ]
  },
  {
   "cell_type": "code",
   "execution_count": null,
   "metadata": {},
   "outputs": [],
   "source": [
    "variant_ligand_pairs = [['pLigify-IemR', 'isoeugenol'], \n",
    "                        ['pLigify-LcLacI', 'D-ribose'], \n",
    "                        ['pLigify-SorR', 'L-sorbose'], \n",
    "                        ['pLigify-VprR', '4-vinylphenol']]"
   ]
  },
  {
   "cell_type": "code",
   "execution_count": null,
   "metadata": {},
   "outputs": [],
   "source": []
  },
  {
   "cell_type": "code",
   "execution_count": null,
   "metadata": {},
   "outputs": [],
   "source": [
    "df = full_summary\n",
    "df = df[df.variant=='pAN-1201']\n",
    "\n",
    "non_fluorescent_mean = df['mean'].mean()\n",
    "non_fluorescent_mean_err = df['mean'].std()\n",
    "\n",
    "ok_to_fail_fit = []\n",
    "non_fluorescent_mean, non_fluorescent_mean_err"
   ]
  },
  {
   "cell_type": "code",
   "execution_count": null,
   "metadata": {},
   "outputs": [],
   "source": [
    "full_summary['date_plate_row'] = [f'{a}_{b}' for a, b in zip(full_summary['date_plate'], full_summary['row'])]"
   ]
  },
  {
   "cell_type": "code",
   "execution_count": null,
   "metadata": {},
   "outputs": [],
   "source": []
  },
  {
   "cell_type": "code",
   "execution_count": null,
   "metadata": {
    "scrolled": true
   },
   "outputs": [],
   "source": [
    "# Plot data with fits to check fit quality\n",
    "os.chdir(notebook_dir)\n",
    "if not os.path.exists('dose_response_plots'):\n",
    "    os.makedirs('dose_response_plots')\n",
    "os.chdir('dose_response_plots')\n",
    "plt.rcParams[\"figure.figsize\"] = [6, 4]\n",
    "\n",
    "color = sns.color_palette()[0]\n",
    "\n",
    "for pair, linthresh in zip(variant_ligand_pairs, [0.001, 10, 0.1, 0.1]):\n",
    "    var = pair[0]\n",
    "    lig = pair[1]\n",
    "    df_0 = full_summary\n",
    "    df_0 = df_0[~df_0.is_bad_rep]\n",
    "    df_0 = df_0[df_0.variant==var]\n",
    "\n",
    "    df_0 = df_0[(df_0.inducerId==lig)|(df_0.inducerId=='none')]\n",
    "\n",
    "    fig, ax = plt.subplots(1, 1)\n",
    "    #fig.suptitle(f'{var}, {lig}', size=20)\n",
    "    \n",
    "    x_0 = df_0.inducerConcentration\n",
    "    x_min = min(x_0[x_0>0])\n",
    "    x_max = max(x_0)\n",
    "    x_fit = [0] + list(np.logspace(np.log10(x_min/10), np.log10(x_max*2), 40))\n",
    "\n",
    "    variant_row = variant_table[(variant_table.variant==var)&(variant_table.ligand==lig)].iloc[0]\n",
    "    hill_params = [variant_row[p] for p in ['log_g0', 'log_ginf', 'log_ec50', 'n']]\n",
    "    hill_params = [10**p for p in hill_params[:3]] + hill_params[3:]\n",
    "    y_fit = hill_funct(x_fit, *hill_params)\n",
    "    \n",
    "    for date_plate, df in df_0.groupby('date_plate_row'):\n",
    "        if len(df)>0:\n",
    "            x = df.inducerConcentration\n",
    "            y = df['mean'] - non_fluorescent_mean\n",
    "            yerr = df['mean_err']\n",
    "            ax.errorbar(x, y/1000, yerr/1000, fmt='o', ms=ms, color=color)\n",
    "\n",
    "    ax.plot(x_fit, y_fit/1000, color=color)\n",
    "\n",
    "    ax.set_xscale('symlog', linthresh=linthresh);\n",
    "    ax.set_xlabel(f'[{lig}] (µmol/L)');\n",
    "    ax.set_ylabel(f'Output (kMEF)');\n",
    "    add_break(ax)\n",
    "    \n",
    "    fig_file = f'{var}_{lig}.dose_response.svg'\n",
    "    fig.savefig(fig_file, bbox_inches='tight')\n",
    "    \n",
    "os.chdir(notebook_dir)"
   ]
  },
  {
   "cell_type": "code",
   "execution_count": null,
   "metadata": {},
   "outputs": [],
   "source": []
  },
  {
   "cell_type": "code",
   "execution_count": null,
   "metadata": {},
   "outputs": [],
   "source": [
    "plot_list = [('pLigify-IemR', 'isoeugenol'),\n",
    " ('pLigify-LcLacI', 'D-ribose'),\n",
    " ('pLigify-SorR', 'L-sorbose'),\n",
    " ('pLigify-VprR', '4-vinylphenol'),\n",
    " ('pLigify-IemR', 'eugenol'),\n",
    " ('pLigify-IemR', '4-ethylguaiacol'),\n",
    " ('pLigify-IemR', '4-vinylphenol'),\n",
    " ('pLigify-VprR', '4-ethylphenol'),\n",
    " ('pLigify-VprR', '4-ethylguaiacol'),\n",
    " ('pLigify-VprR', 'isoeugenol'),\n",
    " ('pLigify-LcLacI', 'L-ribose'),\n",
    " ('pLigify-LcLacI', 'D-arabitol'),\n",
    " ('pLigify-LcLacI', 'L-arabitol'),\n",
    " ('pLigify-SorR', 'D-sorbose'),\n",
    " ('pLigify-SorR', 'D-glucose'),\n",
    " ('pLigify-SorR', 'D-galactose')]"
   ]
  },
  {
   "cell_type": "code",
   "execution_count": null,
   "metadata": {},
   "outputs": [],
   "source": []
  },
  {
   "cell_type": "code",
   "execution_count": null,
   "metadata": {},
   "outputs": [],
   "source": [
    "variant_list = [x[0] for x in variant_ligand_pairs]\n",
    "variant_list"
   ]
  },
  {
   "cell_type": "code",
   "execution_count": null,
   "metadata": {},
   "outputs": [],
   "source": []
  },
  {
   "cell_type": "code",
   "execution_count": null,
   "metadata": {
    "scrolled": true
   },
   "outputs": [],
   "source": [
    "# Plot each curve separately to see the possible EC50 transition\n",
    "plt.rcParams[\"figure.figsize\"] = [6, 4]\n",
    "\n",
    "for var, linthresh in zip(variant_list, [0.001, 10, 0.1, 0.1]):\n",
    "    #fig.suptitle(f'{var}', size=20)\n",
    "    \n",
    "    df_0 = full_summary\n",
    "    df_0 = df_0[~df_0.is_bad_rep]\n",
    "    df_0 = df_0[df_0.variant==var]\n",
    "    x_0 = df_0.inducerConcentration\n",
    "    \n",
    "    ligand_list = [x[1] for x in plot_list if x[0]==var]\n",
    "    \n",
    "    for lig, color in zip(ligand_list, sns.color_palette()):\n",
    "        fig, ax = plt.subplots(1, 1)\n",
    "        df = df_0[(df_0.inducerId==lig)|(df_0.inducerId=='none')]\n",
    "        if len(df)>0:\n",
    "            x = df.inducerConcentration\n",
    "            y = df['mean'] - non_fluorescent_mean\n",
    "            yerr = df['mean_err']\n",
    "            ax.errorbar(x, y/1000, yerr/1000, fmt='o', ms=ms, color=color)\n",
    "            \n",
    "            x_min = min(x[x>0])\n",
    "            x_max = max(x)\n",
    "            x_fit = [0] + list(np.logspace(np.log10(x_min/10), np.log10(x_max*2), 40))\n",
    "\n",
    "            variant_row = variant_table[(variant_table.variant==var)&(variant_table.ligand==lig)].iloc[0]\n",
    "            hill_params = [variant_row[p] for p in ['log_g0', 'log_ginf', 'log_ec50', 'n']]\n",
    "            hill_params = [10**p for p in hill_params[:3]] + hill_params[3:]\n",
    "            y_fit = hill_funct(x_fit, *hill_params)\n",
    "            ax.plot(x_fit, y_fit/1000, color=color)\n",
    "            ax.plot([], [], '-o', color=color, label=var, ms=ms)\n",
    "\n",
    "        ax.set_xscale('symlog', linthresh=linthresh);\n",
    "        ax.set_xlabel(f'[{lig}] (µmol/L)');\n",
    "        ax.set_ylabel(f'Output (kMEF)');\n",
    "        add_break(ax)\n",
    "\n",
    "        ax.legend(loc='upper left', bbox_to_anchor= (1.02, 0.99), ncol=1);"
   ]
  },
  {
   "cell_type": "code",
   "execution_count": null,
   "metadata": {},
   "outputs": [],
   "source": []
  },
  {
   "cell_type": "code",
   "execution_count": null,
   "metadata": {},
   "outputs": [],
   "source": []
  },
  {
   "cell_type": "code",
   "execution_count": null,
   "metadata": {
    "scrolled": true
   },
   "outputs": [],
   "source": [
    "# Plot data with fits to check fit quality\n",
    "os.chdir(notebook_dir)\n",
    "os.chdir('dose_response_plots')\n",
    "plt.rcParams[\"figure.figsize\"] = [6, 4]\n",
    "\n",
    "\n",
    "for var, linthresh in zip(variant_list, [0.001, 10, 0.1, 0.1]):\n",
    "    fig, ax = plt.subplots(1, 1)\n",
    "    #fig.suptitle(f'{var}', size=20)\n",
    "    \n",
    "    df_0 = full_summary\n",
    "    df_0 = df_0[~df_0.is_bad_rep]\n",
    "    df_0 = df_0[df_0.variant==var]\n",
    "    x_0 = df_0.inducerConcentration\n",
    "    \n",
    "    ligand_list = [x[1] for x in plot_list if x[0]==var]\n",
    "    \n",
    "    for lig, color in zip(ligand_list, sns.color_palette()):\n",
    "        df = df_0[(df_0.inducerId==lig)|(df_0.inducerId=='none')]\n",
    "        if len(df)>0:\n",
    "            x = df.inducerConcentration\n",
    "            y = df['mean'] - non_fluorescent_mean\n",
    "            yerr = df['mean_err']\n",
    "            ax.errorbar(x, y/1000, yerr/1000, fmt='o', ms=ms, color=color)\n",
    "            \n",
    "            x_min = min(x[x>0])\n",
    "            x_max = max(x)\n",
    "            x_fit = [0] + list(np.logspace(np.log10(x_min/10), np.log10(x_max*2), 40))\n",
    "\n",
    "            variant_row = variant_table[(variant_table.variant==var)&(variant_table.ligand==lig)].iloc[0]\n",
    "            hill_params = [variant_row[p] for p in ['log_g0', 'log_ginf', 'log_ec50', 'n']]\n",
    "            hill_params = [10**p for p in hill_params[:3]] + hill_params[3:]\n",
    "            y_fit = hill_funct(x_fit, *hill_params)\n",
    "            ax.plot(x_fit, y_fit/1000, color=color)\n",
    "            ax.plot([], [], '-o', color=color, label=lig, ms=ms)\n",
    "\n",
    "    ax.set_xscale('symlog', linthresh=linthresh);\n",
    "    ax.set_xlabel(f'[ligand] (µmol/L)');\n",
    "    ax.set_ylabel(f'Output (kMEF)');\n",
    "    add_break(ax)\n",
    "    \n",
    "    ax.legend(loc='upper left', bbox_to_anchor= (1.02, 0.99), ncol=1);\n",
    "    \n",
    "    fig_file = f'{var}.dose_response.svg'\n",
    "    fig.savefig(fig_file, bbox_inches='tight')\n",
    "    \n",
    "os.chdir(notebook_dir)"
   ]
  },
  {
   "cell_type": "code",
   "execution_count": null,
   "metadata": {},
   "outputs": [],
   "source": []
  },
  {
   "cell_type": "code",
   "execution_count": null,
   "metadata": {},
   "outputs": [],
   "source": []
  },
  {
   "cell_type": "code",
   "execution_count": null,
   "metadata": {
    "scrolled": true
   },
   "outputs": [],
   "source": [
    "stan_model_file = \"Two-step Hill equation fit.stan\"\n",
    "# Load Stan model\n",
    "stan_model = stan_utility.compile_model(stan_model_file)"
   ]
  },
  {
   "cell_type": "code",
   "execution_count": null,
   "metadata": {},
   "outputs": [],
   "source": [
    "def init_stan_fit(x_data, y_data, mid_start=None):\n",
    "    x_max = max(x_data)\n",
    "    x_min = min(x_data)\n",
    "    \n",
    "    if mid_start is None:\n",
    "        x_non_zero = x[x>0]\n",
    "        mid_start = np.exp(np.mean(np.log(x_non_zero)))\n",
    "    \n",
    "    low = np.mean(y_data[x_data<=x_min])\n",
    "    high = np.mean(y_data[x_data>=x_max])\n",
    "    mid = np.random.normal(1, 0.2) * mid_start\n",
    "    n = np.random.normal(1, 0.2) * 2\n",
    "    sig = np.random.normal(1, 0.2) * 100\n",
    "    \n",
    "    return dict(log_low_level=np.log10(low), \n",
    "                log_mid_level=(np.log10(high) + np.log10(low))/2, \n",
    "                log_high_level=np.log10(high), \n",
    "                log_IC_50=np.log10(mid)*np.array([0.8, 1.2]), sensor_n=n,\n",
    "                sigma=sig)"
   ]
  },
  {
   "cell_type": "code",
   "execution_count": null,
   "metadata": {},
   "outputs": [],
   "source": []
  },
  {
   "cell_type": "code",
   "execution_count": null,
   "metadata": {},
   "outputs": [],
   "source": [
    "def two_step_hill_funct(x, low, mid, high, ec50_1, ec50_2, n):\n",
    "    return low + (mid-low)*( x**n )/( ec50_1**n + x**n ) + (high-mid)*( x**n )/( ec50_2**n + x**n )"
   ]
  },
  {
   "cell_type": "code",
   "execution_count": null,
   "metadata": {},
   "outputs": [],
   "source": []
  },
  {
   "cell_type": "code",
   "execution_count": null,
   "metadata": {},
   "outputs": [],
   "source": [
    "# Two-step Hill fit for LcLacI\n",
    "gmin = 10\n",
    "gmax = 150000\n",
    "\n",
    "# Prior on sensor_n; <gamma> = alpha/beta = 2; std = sqrt(alpha)/beta = 1.2\n",
    "sensor_n_alpha = 3*2\n",
    "sensor_n_beta = 1.5*2\n",
    "\n",
    "pair = ['pLigify-LcLacI', 'D-ribose']\n",
    "var = pair[0]\n",
    "lig = pair[1]\n",
    "df = full_summary\n",
    "df = df[~df.is_bad_rep]\n",
    "df = df[df.variant==var]\n",
    "\n",
    "df = df[(df.inducerId==lig)|(df.inducerId=='none')]\n",
    "\n",
    "x = df.inducerConcentration\n",
    "y = df['mean'] - non_fluorescent_mean\n",
    "yerr = df['mean_err']\n",
    "\n",
    "log_x_min = min(np.log10(x[x>0])) - 0.5\n",
    "log_x_max = np.log10(max(x)) + 2\n",
    "\n",
    "stan_data = dict(x=x, y=y, y_err=yerr, N=len(x),\n",
    "                 log_g_min=np.log10(gmin), log_g_max=np.log10(gmax),\n",
    "                 log_x_min=log_x_min, log_x_max=log_x_max,\n",
    "                 sensor_n_alpha=sensor_n_alpha,\n",
    "                 sensor_n_beta=sensor_n_beta)\n",
    "stan_init = init_stan_fit(x, y)\n",
    "stan_fit = stan_model.sample(data=stan_data, \n",
    "                             iter_warmup=3000,\n",
    "                             iter_sampling=3000, \n",
    "                             inits=stan_init, \n",
    "                             chains=4,\n",
    "                             adapt_delta=0.99, \n",
    "                             max_treedepth=15)"
   ]
  },
  {
   "cell_type": "code",
   "execution_count": null,
   "metadata": {},
   "outputs": [],
   "source": [
    "stan_fit.summary().iloc[:13]"
   ]
  },
  {
   "cell_type": "code",
   "execution_count": null,
   "metadata": {},
   "outputs": [],
   "source": []
  },
  {
   "cell_type": "code",
   "execution_count": null,
   "metadata": {},
   "outputs": [],
   "source": []
  },
  {
   "cell_type": "code",
   "execution_count": null,
   "metadata": {},
   "outputs": [],
   "source": [
    "plt.rcParams[\"figure.figsize\"] = [6, 4]\n",
    "fig, ax = plt.subplots(1, 1)\n",
    "\n",
    "for p in ['IC_50_1', 'IC_50_2']:\n",
    "    y = stan_fit.stan_variable(p)\n",
    "    ax.plot(y);\n",
    "ax.set_yscale('log');"
   ]
  },
  {
   "cell_type": "code",
   "execution_count": null,
   "metadata": {},
   "outputs": [],
   "source": []
  },
  {
   "cell_type": "code",
   "execution_count": null,
   "metadata": {},
   "outputs": [],
   "source": [
    "hill_params = ['low_level', 'mid_level', 'high_level', 'IC_50_1', 'IC_50_2', 'sensor_n']\n",
    "two_step_popt = [ np.median(stan_fit.stan_variable(param)) for param in hill_params ] "
   ]
  },
  {
   "cell_type": "code",
   "execution_count": null,
   "metadata": {},
   "outputs": [],
   "source": []
  },
  {
   "cell_type": "code",
   "execution_count": null,
   "metadata": {},
   "outputs": [],
   "source": [
    "# Two-step Hill fit for LcLacI\n",
    "os.chdir(notebook_dir)\n",
    "os.chdir('dose_response_plots')\n",
    "\n",
    "gmin = 10\n",
    "gmax = 1000000\n",
    "\n",
    "# Prior on sensor_n; <gamma> = alpha/beta = 2; std = sqrt(alpha)/beta = 1.2\n",
    "sensor_n_alpha = 3\n",
    "sensor_n_beta = 1.5\n",
    "\n",
    "plt.rcParams[\"figure.figsize\"] = [6, 4]\n",
    "\n",
    "pair = ['pLigify-LcLacI', 'D-ribose']\n",
    "linthresh = 10\n",
    "color = sns.color_palette()[0]\n",
    "var = pair[0]\n",
    "lig = pair[1]\n",
    "df = full_summary\n",
    "df = df[~df.is_bad_rep]\n",
    "df = df[df.variant==var]\n",
    "\n",
    "df = df[(df.inducerId==lig)|(df.inducerId=='none')]\n",
    "\n",
    "fig, ax = plt.subplots(1, 1)\n",
    "#fig.suptitle(f'{var}, {lig}', size=20)\n",
    "\n",
    "x_0 = df.inducerConcentration\n",
    "x_min = min(x_0[x_0>0])\n",
    "x_max = max(x_0)\n",
    "x_fit = [0] + list(np.logspace(np.log10(x_min/10), np.log10(x_max*2), 40))\n",
    "\n",
    "variant_row = variant_table[(variant_table.variant==var)&(variant_table.ligand==lig)].iloc[0]\n",
    "hill_params = [variant_row[p] for p in ['log_g0', 'log_ginf', 'log_ec50', 'n']]\n",
    "hill_params = [10**p for p in hill_params[:3]] + hill_params[3:]\n",
    "y_fit = two_step_hill_funct(x_fit, *two_step_popt)\n",
    "\n",
    "x = df.inducerConcentration\n",
    "y = df['mean'] - non_fluorescent_mean\n",
    "yerr = df['mean_err']\n",
    "ax.errorbar(x, y/1000, yerr/1000, fmt='o', ms=ms, color=color)\n",
    "\n",
    "ax.plot(x_fit, y_fit/1000, color=color)\n",
    "\n",
    "ax.set_xscale('symlog', linthresh=linthresh);\n",
    "ax.set_xlabel(f'[{lig}] (µmol/L)');\n",
    "ax.set_ylabel(f'Output (kMEF)');\n",
    "add_break(ax)\n",
    "\n",
    "fig_file = f'{var}_{lig}.dose_response.2-step.svg'\n",
    "fig.savefig(fig_file, bbox_inches='tight')\n",
    "    \n",
    "os.chdir(notebook_dir)"
   ]
  },
  {
   "cell_type": "code",
   "execution_count": null,
   "metadata": {},
   "outputs": [],
   "source": []
  },
  {
   "cell_type": "code",
   "execution_count": null,
   "metadata": {},
   "outputs": [],
   "source": [
    "# Plot data with fits to check fit quality\n",
    "os.chdir(notebook_dir)\n",
    "os.chdir('dose_response_plots')\n",
    "plt.rcParams[\"figure.figsize\"] = [6, 4]\n",
    "\n",
    "\n",
    "for var, linthresh in zip(['pLigify-LcLacI'], [10]):\n",
    "    fig, ax = plt.subplots(1, 1)\n",
    "    #fig.suptitle(f'{var}', size=20)\n",
    "    \n",
    "    df_0 = full_summary\n",
    "    df_0 = df_0[~df_0.is_bad_rep]\n",
    "    df_0 = df_0[df_0.variant==var]\n",
    "    x_0 = df_0.inducerConcentration\n",
    "    \n",
    "    ligand_list = [x[1] for x in plot_list if x[0]==var]\n",
    "    \n",
    "    for lig, color in zip(ligand_list, sns.color_palette()):\n",
    "        df = df_0[(df_0.inducerId==lig)|(df_0.inducerId=='none')]\n",
    "        if len(df)>0:\n",
    "            x = df.inducerConcentration\n",
    "            y = df['mean'] - non_fluorescent_mean\n",
    "            yerr = df['mean_err']\n",
    "            ax.errorbar(x, y/1000, yerr/1000, fmt='o', ms=ms, color=color)\n",
    "            \n",
    "            x_min = min(x[x>0])\n",
    "            x_max = max(x)\n",
    "            x_fit = [0] + list(np.logspace(np.log10(x_min/10), np.log10(x_max*2), 40))\n",
    "            \n",
    "            if lig == 'D-ribose':\n",
    "                y_fit = two_step_hill_funct(x_fit, *two_step_popt)\n",
    "            else:\n",
    "                variant_row = variant_table[(variant_table.variant==var)&(variant_table.ligand==lig)].iloc[0]\n",
    "                hill_params = [variant_row[p] for p in ['log_g0', 'log_ginf', 'log_ec50', 'n']]\n",
    "                hill_params = [10**p for p in hill_params[:3]] + hill_params[3:]\n",
    "                y_fit = hill_funct(x_fit, *hill_params)\n",
    "            ax.plot(x_fit, y_fit/1000, color=color)\n",
    "            ax.plot([], [], '-o', color=color, label=lig, ms=ms)\n",
    "\n",
    "    ax.set_xscale('symlog', linthresh=linthresh);\n",
    "    ax.set_xlabel(f'[ligand] (µmol/L)');\n",
    "    ax.set_ylabel(f'Output (kMEF)');\n",
    "    add_break(ax)\n",
    "    \n",
    "    ax.legend(loc='upper left', bbox_to_anchor= (1.02, 0.99), ncol=1);\n",
    "    \n",
    "    fig_file = f'{var}.dose_response.2-step.svg'\n",
    "    fig.savefig(fig_file, bbox_inches='tight')\n",
    "    \n",
    "os.chdir(notebook_dir)"
   ]
  },
  {
   "cell_type": "code",
   "execution_count": null,
   "metadata": {},
   "outputs": [],
   "source": []
  },
  {
   "cell_type": "code",
   "execution_count": null,
   "metadata": {},
   "outputs": [],
   "source": [
    "for p in ['IC_50_1', 'IC_50_2', 'low_level', 'high_level', 'sensor_n']:\n",
    "    print(f'{np.mean(stan_fit.stan_variable(p)):.3f} +- {np.std(stan_fit.stan_variable(p)):.3f}')"
   ]
  },
  {
   "cell_type": "code",
   "execution_count": null,
   "metadata": {},
   "outputs": [],
   "source": [
    "g_ratio = stan_fit.stan_variable('high_level')/stan_fit.stan_variable('low_level')\n",
    "print(f'{np.mean(g_ratio):.3f} +- {np.std(g_ratio):.3f}')"
   ]
  },
  {
   "cell_type": "code",
   "execution_count": null,
   "metadata": {},
   "outputs": [],
   "source": [
    "g_ratio = stan_fit.stan_variable('max_level')/stan_fit.stan_variable('low_level')\n",
    "print(np.quantile(g_ratio, 0.05))"
   ]
  },
  {
   "cell_type": "code",
   "execution_count": null,
   "metadata": {},
   "outputs": [],
   "source": [
    "g_max = stan_fit.stan_variable('max_level')\n",
    "print(np.quantile(g_max, 0.05))"
   ]
  },
  {
   "cell_type": "code",
   "execution_count": null,
   "metadata": {},
   "outputs": [],
   "source": [
    "# Lower limit for EC50_2\n",
    "np.quantile(stan_fit.stan_variable('IC_50_2'), 0.05)"
   ]
  },
  {
   "cell_type": "code",
   "execution_count": null,
   "metadata": {},
   "outputs": [],
   "source": []
  }
 ],
 "metadata": {
  "kernelspec": {
   "display_name": "Python [conda env:gsf_ims]",
   "language": "python",
   "name": "conda-env-gsf_ims-py"
  },
  "language_info": {
   "codemirror_mode": {
    "name": "ipython",
    "version": 3
   },
   "file_extension": ".py",
   "mimetype": "text/x-python",
   "name": "python",
   "nbconvert_exporter": "python",
   "pygments_lexer": "ipython3",
   "version": "3.11.4"
  }
 },
 "nbformat": 4,
 "nbformat_minor": 2
}
